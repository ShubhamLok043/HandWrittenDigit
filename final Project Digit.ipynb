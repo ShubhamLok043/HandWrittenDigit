{
 "cells": [
  {
   "cell_type": "code",
   "execution_count": null,
   "id": "3d5399cc",
   "metadata": {},
   "outputs": [],
   "source": []
  },
  {
   "cell_type": "code",
   "execution_count": 15,
   "id": "6570bc9e",
   "metadata": {},
   "outputs": [],
   "source": [
    "from keras import layers\n",
    "from keras import models\n",
    "from keras.datasets import mnist\n",
    "from keras.utils import to_categorical\n",
    "import tensorflow as tf"
   ]
  },
  {
   "cell_type": "code",
   "execution_count": 16,
   "id": "9a46d91b",
   "metadata": {},
   "outputs": [],
   "source": [
    "mnist=tf.keras.datasets.mnist"
   ]
  },
  {
   "cell_type": "code",
   "execution_count": 17,
   "id": "811435ae",
   "metadata": {},
   "outputs": [],
   "source": [
    "(train_images, train_labels), (test_images, test_labels) = mnist.load_data()"
   ]
  },
  {
   "cell_type": "code",
   "execution_count": 18,
   "id": "28980dd8",
   "metadata": {},
   "outputs": [
    {
     "name": "stdout",
     "output_type": "stream",
     "text": [
      "(10000, 28, 28)\n"
     ]
    },
    {
     "data": {
      "text/plain": [
       "(60000, 28, 28)"
      ]
     },
     "execution_count": 18,
     "metadata": {},
     "output_type": "execute_result"
    }
   ],
   "source": [
    "print(test_images.shape)\n",
    "train_images.shape"
   ]
  },
  {
   "cell_type": "code",
   "execution_count": 19,
   "id": "65808965",
   "metadata": {},
   "outputs": [
    {
     "data": {
      "text/plain": [
       "<function matplotlib.pyplot.show(close=None, block=None)>"
      ]
     },
     "execution_count": 19,
     "metadata": {},
     "output_type": "execute_result"
    },
    {
     "data": {
      "image/png": "[encoded data removed]",
      "text/plain": [
       "<Figure size 432x288 with 1 Axes>"
      ]
     },
     "metadata": {
      "needs_background": "light"
     },
     "output_type": "display_data"
    }
   ],
   "source": [
    "#Check How Data loook Like\n",
    "import matplotlib.pyplot as plt\n",
    "\n",
    "plt.imshow(train_images[300])\n",
    "plt.show #Show Graph\n"
   ]
  },
  {
   "cell_type": "code",
   "execution_count": 20,
   "id": "037556b5",
   "metadata": {},
   "outputs": [
    {
     "data": {
      "text/plain": [
       "<matplotlib.image.AxesImage at 0x245845c1eb0>"
      ]
     },
     "execution_count": 20,
     "metadata": {},
     "output_type": "execute_result"
    },
    {
     "data": {
      "image/png": "[encoded data removed]",
      "text/plain": [
       "<Figure size 432x288 with 1 Axes>"
      ]
     },
     "metadata": {
      "needs_background": "light"
     },
     "output_type": "display_data"
    }
   ],
   "source": [
    "plt.imshow(train_images[300],cmap=plt.cm.binary)"
   ]
  },
  {
   "cell_type": "markdown",
   "id": "d0a09c06",
   "metadata": {},
   "source": [
    "# Creating a Deep Neural Network"
   ]
  },
  {
   "cell_type": "code",
   "execution_count": 21,
   "id": "0de91a13",
   "metadata": {},
   "outputs": [
    {
     "name": "stdout",
     "output_type": "stream",
     "text": [
      "Model: \"sequential_1\"\n",
      "_________________________________________________________________\n",
      " Layer (type)                Output Shape              Param #   \n",
      "=================================================================\n",
      " conv2d_3 (Conv2D)           (None, 26, 26, 32)        320       \n",
      "                                                                 \n",
      " max_pooling2d_2 (MaxPooling  (None, 13, 13, 32)       0         \n",
      " 2D)                                                             \n",
      "                                                                 \n",
      " conv2d_4 (Conv2D)           (None, 11, 11, 64)        18496     \n",
      "                                                                 \n",
      " max_pooling2d_3 (MaxPooling  (None, 5, 5, 64)         0         \n",
      " 2D)                                                             \n",
      "                                                                 \n",
      " conv2d_5 (Conv2D)           (None, 3, 3, 64)          36928     \n",
      "                                                                 \n",
      " flatten_1 (Flatten)         (None, 576)               0         \n",
      "                                                                 \n",
      " dense_2 (Dense)             (None, 64)                36928     \n",
      "                                                                 \n",
      " dense_3 (Dense)             (None, 10)                650       \n",
      "                                                                 \n",
      "=================================================================\n",
      "Total params: 93,322\n",
      "Trainable params: 93,322\n",
      "Non-trainable params: 0\n",
      "_________________________________________________________________\n"
     ]
    }
   ],
   "source": [
    "### Create Neural Network\n",
    "model1 = models.Sequential()\n",
    "model1.add(layers.Conv2D(32, (3, 3), activation='relu', input_shape=(28, 28, 1))) ## 1st convolution layer to mention input layer size\n",
    "model1.add(layers.MaxPooling2D((2, 2)))  #Maxpooling ie single max value of 2x2 matrix will get and remaining will drop \n",
    "model1.add(layers.Conv2D(64, (3, 3), activation='relu'))  ##2nd convolution layer\n",
    "model1.add(layers.MaxPooling2D((2, 2)))\n",
    "model1.add(layers.Conv2D(64, (3, 3), activation='relu')) ##3rd convolution layer\n",
    "\n",
    "model1.add(layers.Flatten())  ##before using fully connected layer,need to be flatten so that 2D to 1D\n",
    "model1.add(layers.Dense(64, activation='relu')) ##Fully Connected Layer\n",
    "#last Fully connected layer,output must be equal to number of classes,10(0-9)\n",
    "model1.add(layers.Dense(10, activation='softmax')) #last dense layer must be equal to 10\n",
    "model1.summary()"
   ]
  },
  {
   "cell_type": "code",
   "execution_count": 22,
   "id": "05801f87",
   "metadata": {},
   "outputs": [
    {
     "name": "stdout",
     "output_type": "stream",
     "text": [
      "Epoch 1/5\n",
      "938/938 [==============================] - 22s 23ms/step - loss: 0.1637 - accuracy: 0.9478\n",
      "Epoch 2/5\n",
      "938/938 [==============================] - 22s 23ms/step - loss: 0.0488 - accuracy: 0.9846\n",
      "Epoch 3/5\n",
      "938/938 [==============================] - 22s 23ms/step - loss: 0.0324 - accuracy: 0.9903\n",
      "Epoch 4/5\n",
      "938/938 [==============================] - 22s 23ms/step - loss: 0.0236 - accuracy: 0.9927\n",
      "Epoch 5/5\n",
      "938/938 [==============================] - 23s 24ms/step - loss: 0.0197 - accuracy: 0.9942\n"
     ]
    }
   ],
   "source": [
    "train_images = train_images.reshape((60000, 28, 28, 1)) ##increasing one dimension for kernel operation\n",
    "train_images = train_images.astype('float32') / 255\n",
    "test_images = test_images.reshape((10000, 28, 28, 1)) \n",
    "test_images = test_images.astype('float32') / 255\n",
    "train_labels = to_categorical(train_labels)\n",
    "test_labels = to_categorical(test_labels)\n",
    "\n",
    "\n",
    "model1.compile(optimizer='rmsprop', loss='categorical_crossentropy', metrics=['accuracy'])\n",
    "history=model1.fit(train_images, train_labels, epochs=5, batch_size=64)\n"
   ]
  },
  {
   "cell_type": "code",
   "execution_count": 23,
   "id": "671cd13e",
   "metadata": {},
   "outputs": [
    {
     "name": "stdout",
     "output_type": "stream",
     "text": [
      "313/313 [==============================] - 1s 4ms/step - loss: 0.0337 - accuracy: 0.9908\n",
      "Test loss on 10,000 test sample 0.03372851759195328\n",
      "Test laccuracy on 10,000 test sample 0.9908000230789185\n"
     ]
    }
   ],
   "source": [
    "test_loss,test_acc=model1.evaluate(test_images,test_labels)\n",
    "print(\"Test loss on 10,000 test sample\",test_loss)\n",
    "print(\"Test laccuracy on 10,000 test sample\",test_acc)"
   ]
  },
  {
   "cell_type": "code",
   "execution_count": 13,
   "id": "0872de64",
   "metadata": {},
   "outputs": [],
   "source": [
    "model1.save('C:\\\\Users\\\\lokha\\\\OneDrive\\\\Desktop\\\\coursera\\\\mnist_modeldigit.h5')"
   ]
  },
  {
   "cell_type": "code",
   "execution_count": null,
   "id": "bed87b73",
   "metadata": {},
   "outputs": [],
   "source": []
  },
  {
   "cell_type": "code",
   "execution_count": null,
   "id": "d8a3426c",
   "metadata": {},
   "outputs": [],
   "source": []
  },
  {
   "cell_type": "code",
   "execution_count": null,
   "id": "1637d6de",
   "metadata": {},
   "outputs": [],
   "source": []
  },
  {
   "cell_type": "code",
   "execution_count": null,
   "id": "d5536c81",
   "metadata": {},
   "outputs": [],
   "source": []
  },
  {
   "cell_type": "code",
   "execution_count": null,
   "id": "c83061d3",
   "metadata": {},
   "outputs": [],
   "source": []
  },
  {
   "cell_type": "code",
   "execution_count": null,
   "id": "a4128f12",
   "metadata": {},
   "outputs": [],
   "source": []
  },
  {
   "cell_type": "code",
   "execution_count": null,
   "id": "35e00e28",
   "metadata": {},
   "outputs": [],
   "source": []
  },
  {
   "cell_type": "code",
   "execution_count": null,
   "id": "ba89e446",
   "metadata": {},
   "outputs": [],
   "source": []
  },
  {
   "cell_type": "code",
   "execution_count": 25,
   "id": "88c4510d",
   "metadata": {},
   "outputs": [],
   "source": []
  },
  {
   "cell_type": "code",
   "execution_count": null,
   "id": "49ba083f",
   "metadata": {},
   "outputs": [],
   "source": []
  },
  {
   "cell_type": "code",
   "execution_count": null,
   "id": "cbef0766",
   "metadata": {},
   "outputs": [],
   "source": []
  },
  {
   "cell_type": "code",
   "execution_count": null,
   "id": "48592b4d",
   "metadata": {},
   "outputs": [],
   "source": []
  },
  {
   "cell_type": "code",
   "execution_count": null,
   "id": "4ed0f9e8",
   "metadata": {},
   "outputs": [],
   "source": []
  },
  {
   "cell_type": "markdown",
   "id": "51c780ed",
   "metadata": {},
   "source": [
    "# GUI"
   ]
  },
  {
   "cell_type": "code",
   "execution_count": null,
   "id": "969943e0",
   "metadata": {},
   "outputs": [],
   "source": [
    "from tkinter import *\n",
    "\n",
    "import cv2\n",
    "import numpy as np\n",
    "from PIL import ImageGrab\n",
    "from keras.models import load_model\n",
    "import webbrowser\n",
    "\n",
    "model = load_model('C:\\\\Users\\\\lokha\\\\OneDrive\\\\Desktop\\\\coursera\\\\mnist_model2.h5')\n",
    "image_folder = \"C:\\\\Users\\\\lokha\\\\OneDrive\\\\Desktop\\\\coursera\\\\img\\\\\"\n",
    "\n",
    "root = Tk()\n",
    "root.resizable(0, 0)\n",
    "root.title(\"Digit Recognition System\")\n",
    "\n",
    "lastx, lasty = None, None\n",
    "image_number = 0\n",
    "\n",
    "cv = Canvas(root, width=800, height=600, bg='white')\n",
    "cv.grid(row=0, column=0, pady=2, sticky=NSEW, columnspan=2)\n",
    "\n",
    "\n",
    "def clear_widget():\n",
    "    global cv\n",
    "    cv.delete('all')\n",
    "\n",
    "\n",
    "def draw_lines(event):\n",
    "    global lastx, lasty\n",
    "    x, y = event.x, event.y\n",
    "    cv.create_line((lastx, lasty, x, y), width=8, fill='black', capstyle=ROUND, smooth=TRUE, splinesteps=12)\n",
    "    lastx, lasty = x, y\n",
    "\n",
    "\n",
    "def activate_event(event):\n",
    "    global lastx, lasty\n",
    "    cv.bind('<B1-Motion>', draw_lines)\n",
    "    lastx, lasty = event.x, event.y\n",
    "\n",
    "\n",
    "cv.bind('<Button-1>', activate_event)\n",
    "\n",
    "\n",
    "def Recognize_Digit():\n",
    "    global image_number\n",
    "    filename = f'img_{image_number}.png'\n",
    "    widget = cv\n",
    "\n",
    "    x = root.winfo_rootx() + widget.winfo_rootx()\n",
    "    y = root.winfo_rooty() + widget.winfo_rooty()\n",
    "    x1 = x + widget.winfo_width()\n",
    "    y1 = y + widget.winfo_height()\n",
    "    print(x, y, x1, y1)\n",
    "\n",
    "    # get image and save\n",
    "    ImageGrab.grab().crop((x, y, x1, y1)).save(image_folder + filename)\n",
    "\n",
    "    image = cv2.imread(image_folder + filename, cv2.IMREAD_COLOR)\n",
    "    gray = cv2.cvtColor(image.copy(), cv2.COLOR_BGR2GRAY)\n",
    "    ret, th = cv2.threshold(gray, 0, 255, cv2.THRESH_BINARY_INV + cv2.THRESH_OTSU)\n",
    "\n",
    "    contours = cv2.findContours(th, cv2.RETR_EXTERNAL, cv2.CHAIN_APPROX_SIMPLE)[0]\n",
    "\n",
    "    for cnt in contours:\n",
    "        x, y, w, h = cv2.boundingRect(cnt)\n",
    "        # make a rectangle box around each curve\n",
    "        cv2.rectangle(image, (x, y), (x + w, y + h), (255, 0, 0), 1)\n",
    "\n",
    "        # Cropping out the digit from the image corresponding to the current contours in the for loop\n",
    "        digit = th[y:y + h, x:x + w]\n",
    "\n",
    "        # Resizing that digit to (18, 18)\n",
    "        resized_digit = cv2.resize(digit, (18, 18))\n",
    "\n",
    "        # Padding the digit with 5 pixels of black color (zeros) in each side to finally produce the image of (28, 28)\n",
    "        padded_digit = np.pad(resized_digit, ((5, 5), (5, 5)), \"constant\", constant_values=0)\n",
    "\n",
    "        digit = padded_digit.reshape(1, 28, 28, 1)\n",
    "        digit = digit / 255.0\n",
    "\n",
    "        pred = model.predict([digit])[0]\n",
    "        final_pred = np.argmax(pred)\n",
    "\n",
    "        data = str(final_pred) + ' ' + str(int(max(pred) * 100)) + '%'\n",
    "\n",
    "        font = cv2.FONT_HERSHEY_SIMPLEX\n",
    "        fontScale = 0.5\n",
    "        color = (255, 0, 0)\n",
    "        thickness = 1\n",
    "        cv2.putText(image, data, (x, y - 5), font, fontScale, color, thickness)\n",
    "\n",
    "    cv2.imshow('Predictions', image)\n",
    "    cv2.waitKey(0)\n",
    "    \n",
    "def callback():\n",
    "        webbrowser.open_new(r\"www.google.com\")    \n",
    "btn_save = Button(text='Recognize Digits',width=15, height=3, command=Recognize_Digit)\n",
    "btn_save.grid(row=2, column=0, pady=1, padx=1)\n",
    "button_clear = Button(text='Clear Output',width=15, height=3, command=clear_widget)\n",
    "button_clear.grid(row=2, column=1, pady=1, padx=1)\n",
    "button_info = Button(text='Feedback', width=15, height=2, command=callback)\n",
    "button_info.grid(row=3, column=0, pady=1, padx=1)\n",
    "\n",
    "root.mainloop()\n"
   ]
  }
 ],
 "metadata": {
  "kernelspec": {
   "display_name": "Python 3 (ipykernel)",
   "language": "python",
   "name": "python3"
  },
  "language_info": {
   "codemirror_mode": {
    "name": "ipython",
    "version": 3
   },
   "file_extension": ".py",
   "mimetype": "text/x-python",
   "name": "python",
   "nbconvert_exporter": "python",
   "pygments_lexer": "ipython3",
   "version": "3.9.7"
  }
 },
 "nbformat": 4,
 "nbformat_minor": 5
}
